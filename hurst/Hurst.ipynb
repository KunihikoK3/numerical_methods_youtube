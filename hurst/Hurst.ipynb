{
 "cells": [
  {
   "cell_type": "code",
   "execution_count": 1,
   "id": "74a6fd0d",
   "metadata": {},
   "outputs": [],
   "source": [
    "import numpy as np\n",
    "import matplotlib.pyplot as plt\n",
    "import pandas as pd\n",
    "\n",
    "%matplotlib inline"
   ]
  },
  {
   "cell_type": "markdown",
   "id": "c717b60c",
   "metadata": {},
   "source": [
    "###  Quantstart - The Basics of Statistical Mean Reversion Testing\n",
    "\n",
    "https://www.quantstart.com/articles/Basics-of-Statistical-Mean-Reversion-Testing/"
   ]
  },
  {
   "cell_type": "markdown",
   "id": "096b5b38",
   "metadata": {},
   "source": [
    "<H2>Wikipedia</H2>\n",
    "\n",
    "https://en.wikipedia.org/wiki/Hurst_exponent"
   ]
  },
  {
   "cell_type": "markdown",
   "id": "a61cb35e",
   "metadata": {},
   "source": [
    "###  Fitting a Power Law\n",
    "\n",
    "Suppose we have reason to believe some observed data follows a power law.  What is an easy way for us to visualize if that is the case, and how can we extract the exponent?\n",
    "\n",
    "$$y = x^a$$"
   ]
  },
  {
   "cell_type": "code",
   "execution_count": 2,
   "id": "67402731",
   "metadata": {},
   "outputs": [
    {
     "data": {
      "image/png": "[encoded data removed]",
      "text/plain": [
       "<Figure size 432x288 with 1 Axes>"
      ]
     },
     "metadata": {
      "needs_background": "light"
     },
     "output_type": "display_data"
    }
   ],
   "source": [
    "x = np.linspace(1, 10, 15)\n",
    "y = x**3.2\n",
    "\n",
    "plt.plot(x, y, '.')\n",
    "plt.xlabel('x')\n",
    "plt.ylabel('y')\n",
    "plt.grid()"
   ]
  },
  {
   "cell_type": "markdown",
   "id": "a01b5de7",
   "metadata": {},
   "source": [
    "If we take the log of each side of the equation, we get,\n",
    "\n",
    "$$\\log(y) = \\log(x^a)$$\n",
    "or\n",
    "$$\\log(y) = a\\log(x).$$\n",
    "\n",
    "If we replace $\\log(y)$ with the dummy variable $v$ and $\\log(x)$ with $u$, we see we get the equation of a straight line with slope $a$.\n",
    "\n",
    "$$v = au$$\n",
    "\n",
    "So if we plot our data on an log log plot, we should get a straight line.  As an aside, we could also plot $\\log(y)$ vs. $\\log(x)$ on a linear plot to see the same thing."
   ]
  },
  {
   "cell_type": "code",
   "execution_count": 3,
   "id": "a79d4393",
   "metadata": {},
   "outputs": [
    {
     "data": {
      "image/png": "[encoded data removed]",
      "text/plain": [
       "<Figure size 432x288 with 1 Axes>"
      ]
     },
     "metadata": {
      "needs_background": "light"
     },
     "output_type": "display_data"
    }
   ],
   "source": [
    "plt.loglog(x, y, '.')\n",
    "plt.xlabel('x')\n",
    "plt.ylabel('y')\n",
    "plt.grid()"
   ]
  },
  {
   "cell_type": "markdown",
   "id": "85924e01",
   "metadata": {},
   "source": [
    "### Quantstart Code\n",
    "\n",
    "$$\\mbox{var}(\\tau) = \\left<\\left|\\log(t + \\tau) - \\log(\\tau)\\right|^2\\right>$$\n",
    "\n",
    "Extracting the exponent from:\n",
    "$$\\left<\\left|\\log(t + \\tau) - \\log(\\tau)\\right|^2\\right> \\sim \\tau^{2H}$$"
   ]
  },
  {
   "cell_type": "code",
   "execution_count": 16,
   "id": "94ddbf0c",
   "metadata": {},
   "outputs": [],
   "source": [
    "def hurst(ts):\n",
    "    \"\"\"\n",
    "    Returns the Hurst Exponent of the time series vector ts\n",
    "\n",
    "    Parameters\n",
    "    ----------\n",
    "    ts : `numpy.array`\n",
    "        Time series upon which the Hurst Exponent will be calculated\n",
    "\n",
    "    Returns\n",
    "    -------\n",
    "    'float'\n",
    "        The Hurst Exponent from the poly fit output\n",
    "    \"\"\"\n",
    "    # Create the range of lag values\n",
    "    N_lags = 100\n",
    "    lags = np.arange(2, N_lags)\n",
    "\n",
    "    # Calculate the array of the variances of the lagged differences\n",
    "    tau = [np.sqrt(np.std(ts[lag:] - ts[:-lag])) for lag in lags]\n",
    "\n",
    "    # Use a linear fit to estimate the Hurst Exponent\n",
    "    poly = np.polyfit(np.log(lags), np.log(tau), 1)\n",
    "\n",
    "    # Return the Hurst exponent from the polyfit output\n",
    "    return poly[0]*2.0, lags, tau"
   ]
  },
  {
   "cell_type": "code",
   "execution_count": 5,
   "id": "0e7dfe62",
   "metadata": {},
   "outputs": [],
   "source": [
    "N = 100000\n",
    "gbm = np.log(np.cumsum(np.random.randn(N))+1000)\n",
    "mr = np.log(np.random.randn(N)+1000)\n",
    "tr = np.log(np.cumsum(np.random.randn(N)+1)+1000)"
   ]
  },
  {
   "cell_type": "code",
   "execution_count": 6,
   "id": "755e4c28",
   "metadata": {},
   "outputs": [],
   "source": [
    "H_gbm, lags_gbm, tau_gbm = hurst(gbm)\n",
    "H_mr, lags_mr, tau_mr = hurst(mr)\n",
    "H_tr, lags_tr, tau_tr = hurst(tr)"
   ]
  },
  {
   "cell_type": "code",
   "execution_count": 7,
   "id": "5fe75344",
   "metadata": {},
   "outputs": [
    {
     "name": "stdout",
     "output_type": "stream",
     "text": [
      "0.5059600249550849\n",
      "1.467881229725093e-05\n",
      "0.9556512358774943\n"
     ]
    }
   ],
   "source": [
    "print(H_gbm)\n",
    "print(H_mr)\n",
    "print(H_tr)"
   ]
  },
  {
   "cell_type": "code",
   "execution_count": 8,
   "id": "2b9858ed",
   "metadata": {},
   "outputs": [
    {
     "data": {
      "text/plain": [
       "Text(0, 0.5, 'Variance')"
      ]
     },
     "execution_count": 8,
     "metadata": {},
     "output_type": "execute_result"
    },
    {
     "data": {
      "image/png": "[encoded data removed]",
      "text/plain": [
       "<Figure size 432x288 with 1 Axes>"
      ]
     },
     "metadata": {
      "needs_background": "light"
     },
     "output_type": "display_data"
    }
   ],
   "source": [
    "plt.loglog(lags_gbm, tau_gbm)\n",
    "plt.grid()\n",
    "plt.xlabel('Lag')\n",
    "plt.ylabel('Variance')"
   ]
  },
  {
   "cell_type": "code",
   "execution_count": 17,
   "id": "137cb65e",
   "metadata": {},
   "outputs": [
    {
     "name": "stdout",
     "output_type": "stream",
     "text": [
      "0.21052467223520788\n"
     ]
    }
   ],
   "source": [
    "SPY = pd.read_csv('SPY.csv')\n",
    "spy = SPY['Adj Close'].values[-252:]\n",
    "\n",
    "H_spy, lags_spy, tau_spy = hurst(spy)\n",
    "print(H_spy)"
   ]
  },
  {
   "cell_type": "code",
   "execution_count": null,
   "id": "9f205ae7",
   "metadata": {},
   "outputs": [],
   "source": []
  }
 ],
 "metadata": {
  "kernelspec": {
   "display_name": "Python 3",
   "language": "python",
   "name": "python3"
  },
  "language_info": {
   "codemirror_mode": {
    "name": "ipython",
    "version": 3
   },
   "file_extension": ".py",
   "mimetype": "text/x-python",
   "name": "python",
   "nbconvert_exporter": "python",
   "pygments_lexer": "ipython3",
   "version": "3.7.16"
  }
 },
 "nbformat": 4,
 "nbformat_minor": 5
}
