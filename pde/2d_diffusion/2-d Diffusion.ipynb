{
 "cells": [
  {
   "cell_type": "code",
   "execution_count": 1,
   "id": "859ffc26",
   "metadata": {},
   "outputs": [
    {
     "name": "stderr",
     "output_type": "stream",
     "text": [
      "Could not find cannot import name 'radau5' from 'assimulo.lib' (C:\\Users\\moone\\Anaconda3\\lib\\site-packages\\assimulo\\lib\\__init__.py)\n",
      "Could not find cannot import name 'dopri5' from 'assimulo.lib' (C:\\Users\\moone\\Anaconda3\\lib\\site-packages\\assimulo\\lib\\__init__.py)\n",
      "Could not find cannot import name 'rodas' from 'assimulo.lib' (C:\\Users\\moone\\Anaconda3\\lib\\site-packages\\assimulo\\lib\\__init__.py)\n",
      "Could not find cannot import name 'odassl' from 'assimulo.lib' (C:\\Users\\moone\\Anaconda3\\lib\\site-packages\\assimulo\\lib\\__init__.py)\n",
      "Could not find ODEPACK functions.\n",
      "C:\\Users\\moone\\Anaconda3\\lib\\site-packages\\assimulo\\solvers\\odepack.py:717: VisibleDeprecationWarning: Creating an ndarray from ragged nested sequences (which is a list-or-tuple of lists-or-tuples-or ndarrays with different lengths or shapes) is deprecated. If you meant to do this, you must specify 'dtype=object' when creating the ndarray\n",
      "  38892959/120069679,11804845./141497517]])]\n",
      "Could not find RADAR5\n",
      "Could not find GLIMDA.\n"
     ]
    }
   ],
   "source": [
    "import numpy as np\n",
    "import matplotlib.pyplot as plt\n",
    "import matplotlib.patches as patches\n",
    "\n",
    "from assimulo.solvers import IDA\n",
    "from assimulo.problem import Implicit_Problem\n",
    "from assimulo.exception import TerminateSimulation\n",
    "\n",
    "from time import time\n",
    "\n",
    "%matplotlib inline"
   ]
  },
  {
   "cell_type": "markdown",
   "id": "13f0e84f",
   "metadata": {},
   "source": [
    "A square plate with each side having a length of one is initially at 30 degrees except the edges which are held at a fixed temperature.   The top and bottom edges are held at five degrees while the left and right edges are held at zero degrees.  If the diffusion constant $D$ is equal to one, what is the temperature of the plate as a function of position after 10 seconds?\n",
    "\n",
    "$$\n",
    "\\frac{\\partial T}{\\partial t} = D\\left(\\frac{\\partial^2 T}{\\partial x^2} + \\frac{\\partial^2T}{\\partial y^2}\\right)\n",
    "$$\n",
    "with the boundary conditions\n",
    "$$\n",
    "T(x = 0, t) = 0 \\;\\;\\mbox{and} \\;\\; T(x=1, t) = 0\n",
    "$$\n",
    "$$\n",
    "T(y = 0, t) = 5 \\;\\;\\mbox{and} \\;\\; T(y=1, t) = 5\n",
    "$$\n",
    "and with the initial conditions\n",
    "$$\n",
    "T(x, y, t = 0) = 30\n",
    "$$"
   ]
  },
  {
   "cell_type": "code",
   "execution_count": 2,
   "id": "b29d2f23",
   "metadata": {},
   "outputs": [
    {
     "data": {
      "text/plain": [
       "Text(0.4, 0.5, '$T = 30$')"
      ]
     },
     "execution_count": 2,
     "metadata": {},
     "output_type": "execute_result"
    },
    {
     "data": {
      "image/png": "[encoded data removed]",
      "text/plain": [
       "<Figure size 432x288 with 1 Axes>"
      ]
     },
     "metadata": {
      "needs_background": "light"
     },
     "output_type": "display_data"
    }
   ],
   "source": [
    "fig, ax = plt.subplots()\n",
    "rect = patches.Rectangle((0, 0), 1, 1, linewidth=1, edgecolor='b', facecolor='r')\n",
    "ax.add_patch(rect)\n",
    "plt.xlim(-0.1, 1.1)\n",
    "plt.ylim(-0.1, 1.1)\n",
    "plt.xlabel('x')\n",
    "plt.ylabel('y')\n",
    "plt.gca().invert_yaxis()\n",
    "ax.set_aspect('equal')\n",
    "plt.text(0.4, 1.07, '$T = 5$')\n",
    "plt.text(0.4, -0.03, '$T = 5$')\n",
    "plt.text(-0.07, 0.5, '$T = 0$', rotation = 90)\n",
    "plt.text(1.03, 0.5, '$T = 0$', rotation = 90)\n",
    "plt.text(0.4, 0.5, '$T = 30$', color=[1,1,1])"
   ]
  },
  {
   "cell_type": "code",
   "execution_count": 3,
   "id": "25e24703",
   "metadata": {},
   "outputs": [
    {
     "data": {
      "text/plain": [
       "<matplotlib.patches.Circle at 0x23afeb19438>"
      ]
     },
     "execution_count": 3,
     "metadata": {},
     "output_type": "execute_result"
    },
    {
     "data": {
      "image/png": "[encoded data removed]",
      "text/plain": [
       "<Figure size 432x288 with 1 Axes>"
      ]
     },
     "metadata": {
      "needs_background": "light"
     },
     "output_type": "display_data"
    }
   ],
   "source": [
    "x = np.linspace(0, 1, 6)\n",
    "y = np.copy(x)\n",
    "M = x.size; N = y.size\n",
    "\n",
    "for i in range(N):\n",
    "    plt.plot(x[i] * 5 * np.ones(N), y * 5, '.b')\n",
    "plt.grid()\n",
    "plt.gca().invert_yaxis()\n",
    "\n",
    "plt.plot((2,1), (2,2), 'k')\n",
    "plt.plot((2,2), (3,2), 'k')\n",
    "plt.plot((2,3), (2,2), 'k')\n",
    "plt.plot((2,2), (1,2), 'k')\n",
    "\n",
    "circ1 = patches.Circle((2,1), 1.2, linewidth=1, edgecolor='k')\n",
    "ax.add_patch(circ1)"
   ]
  },
  {
   "cell_type": "markdown",
   "id": "5929de3c",
   "metadata": {},
   "source": [
    "$$\\frac{\\partial^2 T}{\\partial x^2}  + \\frac{\\partial^2 T}{\\partial y^2} \\approx \\frac{T_{i-1, j} - 2T_{i,j} + T_{i+1, j}}{(\\Delta)^2} + \n",
    "\\frac{T_{i, j-1} - 2T_{i,j} + T_{i, j+1}}{(\\Delta)^2}$$\n",
    "\n",
    "$$i, j \\rightarrow Mj+i$$"
   ]
  },
  {
   "cell_type": "code",
   "execution_count": 4,
   "id": "b0594cd1",
   "metadata": {},
   "outputs": [],
   "source": [
    "class Diffusion:\n",
    "    def __init__(self):\n",
    "        self.M = 21\n",
    "        self.N = self.M\n",
    "        \n",
    "        self.x = np.linspace(0, 1, self.M)\n",
    "        self.y = np.copy(self.x)\n",
    "        self.Delta = np.diff(x)[0]\n",
    "        \n",
    "        T0 = 30 * np.ones(( self.M, self.N) )\n",
    "        T0[1:-1, 0] = 0\n",
    "        T0[1:-1, -1] = 0\n",
    "        T0[0, :] = 5\n",
    "        T0[-1, :] = 5\n",
    "        \n",
    "        T = np.zeros( self.M * self.N )\n",
    "        for j in range(self.N):\n",
    "            for i in range(self.M):\n",
    "                T[ self.return_index_column(i, j) ] = T0[i,j]\n",
    "                \n",
    "        Tprime = np.zeros( T.shape )\n",
    "        \n",
    "        sw = [False] * T.size\n",
    "        \n",
    "        algvar = T.size * [True]\n",
    "        for j in range(self.N):\n",
    "            for i in range(self.M):\n",
    "                if j == 0 or i == 0 or j == self.N-1 or i == self.M - 1:\n",
    "                    algvar[ self.return_index_column(i, j) ] = False\n",
    "                    \n",
    "        #  Create the model object\n",
    "        model = Implicit_Problem(self.equations, T, Tprime, 0, sw0 = sw)\n",
    "        \n",
    "        #  Create the simulation object and pass in the algvar variable.\n",
    "        sim = IDA(model)\n",
    "        sim.algvar = algvar\n",
    "        \n",
    "        #  Find consistant initial conditions\n",
    "        sim.make_consistent('IDA_YA_YDP_INIT')\n",
    "        \n",
    "        #  Solve the system.\n",
    "        self.t, self.T, self.Tprime = sim.simulate(10)\n",
    "                \n",
    "    def equations(self, t, T, Tprime, sw):\n",
    "        res = np.zeros(T.shape)\n",
    "        \n",
    "        for j in range(1, self.N-1):\n",
    "            for i in range(1, self.M-1):\n",
    "                res[ self.return_index_column(i,j) ] = Tprime[ self.return_index_column(i,j) ] - 1 / self.Delta**2 * \\\n",
    "                (-4 * T[self.M*j+i] + T[self.M*(j-1) + i] + T[self.M*(j+1) + i] + \\\n",
    "                T[self.M*j+i-1] + T[self.M*j+i+1])\n",
    "                \n",
    "            for i in range(1, self.M-1):\n",
    "                res[ self.return_index_column(i, 0) ] = T[ self.return_index_column(i, 0) ] - 0\n",
    "                res[ self.return_index_column(i, self.N-1) ] = T[ self.return_index_column(i, self.N-1) ] - 0\n",
    "                \n",
    "            for j in range(self.N):\n",
    "                res[ self.return_index_column(0, j)] = T[ self.return_index_column(0, j)] - 5\n",
    "                res[ self.return_index_column(self.M-1, j)] = T[ self.return_index_column(self.M-1, j)] - 5\n",
    "                \n",
    "        return res\n",
    "        \n",
    "    def return_index_column(self, i, j):\n",
    "        return self.M*j + i"
   ]
  },
  {
   "cell_type": "code",
   "execution_count": 5,
   "id": "bbea8917",
   "metadata": {},
   "outputs": [
    {
     "name": "stdout",
     "output_type": "stream",
     "text": [
      "Final Run Statistics: --- \n",
      "\n",
      " Number of steps                                 : 216\n",
      " Number of function evaluations                  : 257\n",
      " Number of Jacobian evaluations                  : 28\n",
      " Number of function eval. due to Jacobian eval.  : 12348\n",
      " Number of error test failures                   : 6\n",
      " Number of nonlinear iterations                  : 257\n",
      " Number of nonlinear convergence failures        : 0\n",
      "\n",
      "Solver options:\n",
      "\n",
      " Solver                       : IDA (BDF)\n",
      " Maximal order                : 5\n",
      " Suppressed algebr. variables : False\n",
      " Tolerances (absolute)        : 1e-06\n",
      " Tolerances (relative)        : 1e-06\n",
      "\n",
      "Simulation interval    : 0.0 - 10.0 seconds.\n",
      "Elapsed simulation time: 43.0536198 seconds.\n",
      "45.97522282600403\n"
     ]
    }
   ],
   "source": [
    "start = time()\n",
    "sol = Diffusion()\n",
    "print(time() - start)"
   ]
  },
  {
   "cell_type": "code",
   "execution_count": 6,
   "id": "71f31543",
   "metadata": {},
   "outputs": [
    {
     "data": {
      "text/plain": [
       "<matplotlib.colorbar.Colorbar at 0x23afebdcc88>"
      ]
     },
     "execution_count": 6,
     "metadata": {},
     "output_type": "execute_result"
    },
    {
     "data": {
      "image/png": "[encoded data removed]",
      "text/plain": [
       "<Figure size 432x288 with 2 Axes>"
      ]
     },
     "metadata": {
      "needs_background": "light"
     },
     "output_type": "display_data"
    }
   ],
   "source": [
    "T = sol.T[-1,:]\n",
    "D = int(np.sqrt(T.size))\n",
    "T = np.reshape(T, (D, D))\n",
    "plt.contourf(T)\n",
    "plt.colorbar()"
   ]
  },
  {
   "cell_type": "code",
   "execution_count": 16,
   "id": "ee1e6243",
   "metadata": {},
   "outputs": [
    {
     "data": {
      "text/plain": [
       "<matplotlib.legend.Legend at 0x23a80607e10>"
      ]
     },
     "execution_count": 16,
     "metadata": {},
     "output_type": "execute_result"
    },
    {
     "data": {
      "image/png": "[encoded data removed]",
      "text/plain": [
       "<Figure size 432x288 with 1 Axes>"
      ]
     },
     "metadata": {
      "needs_background": "light"
     },
     "output_type": "display_data"
    }
   ],
   "source": [
    "matlab = np.loadtxt('matlab.dat')\n",
    "plt.plot(np.linspace(0, 1, T[11,:].size), T[11,:],  '.', label = 'Finite DIfference')\n",
    "plt.plot(np.linspace(0, 1, matlab.size), matlab, 'k', label = 'Matlab')\n",
    "plt.grid()\n",
    "plt.legend()"
   ]
  },
  {
   "cell_type": "code",
   "execution_count": null,
   "id": "1e9d7c69",
   "metadata": {},
   "outputs": [],
   "source": []
  }
 ],
 "metadata": {
  "kernelspec": {
   "display_name": "Python 3",
   "language": "python",
   "name": "python3"
  },
  "language_info": {
   "codemirror_mode": {
    "name": "ipython",
    "version": 3
   },
   "file_extension": ".py",
   "mimetype": "text/x-python",
   "name": "python",
   "nbconvert_exporter": "python",
   "pygments_lexer": "ipython3",
   "version": "3.7.1"
  }
 },
 "nbformat": 4,
 "nbformat_minor": 5
}
